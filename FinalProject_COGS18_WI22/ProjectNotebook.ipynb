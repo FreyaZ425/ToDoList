{
 "cells": [
  {
   "cell_type": "markdown",
   "metadata": {},
   "source": [
    "# Project Description"
   ]
  },
  {
   "cell_type": "markdown",
   "metadata": {},
   "source": [
    "The project I created is a To-Do-List generator. \n",
    "The methods include adding events, deleting events, changing events, showing things that happen on a particular date, and showing the current calendar as a table. \n",
    "To do this, I incorporated pandas in a class to create the table results while being able to use different method to control the events."
   ]
  },
  {
   "cell_type": "markdown",
   "metadata": {},
   "source": [
    "## Project Code\n",
    "\n",
    "If it makes sense for your project, you can have code and outputs here in the notebook as well."
   ]
  },
  {
   "cell_type": "code",
   "execution_count": 1,
   "metadata": {},
   "outputs": [
    {
     "ename": "SyntaxError",
     "evalue": "invalid syntax (classes.py, line 117)",
     "output_type": "error",
     "traceback": [
      "Traceback \u001b[0;36m(most recent call last)\u001b[0m:\n",
      "  File \u001b[1;32m\"/opt/conda/lib/python3.9/site-packages/IPython/core/interactiveshell.py\"\u001b[0m, line \u001b[1;32m3441\u001b[0m, in \u001b[1;35mrun_code\u001b[0m\n    exec(code_obj, self.user_global_ns, self.user_ns)\n",
      "\u001b[0;36m  File \u001b[0;32m\"/tmp/ipykernel_14739/3240818568.py\"\u001b[0;36m, line \u001b[0;32m1\u001b[0;36m, in \u001b[0;35m<module>\u001b[0;36m\u001b[0m\n\u001b[0;31m    from my_module.classes import ToDoList\u001b[0m\n",
      "\u001b[0;36m  File \u001b[0;32m\"/home/chz037/FinalProject_COGS18_WI22/my_module/classes.py\"\u001b[0;36m, line \u001b[0;32m117\u001b[0m\n\u001b[0;31m    return things\u001b[0m\n\u001b[0m    ^\u001b[0m\n\u001b[0;31mSyntaxError\u001b[0m\u001b[0;31m:\u001b[0m invalid syntax\n"
     ]
    }
   ],
   "source": [
    "from my_module.classes import ToDoList"
   ]
  },
  {
   "cell_type": "code",
   "execution_count": null,
   "metadata": {},
   "outputs": [],
   "source": [
    "ToDoList.purpose"
   ]
  },
  {
   "cell_type": "code",
   "execution_count": null,
   "metadata": {},
   "outputs": [],
   "source": [
    "planner1 = ToDoList()\n",
    "planner1.add_event('April 25', 'Birthday')\n",
    "planner1.add_event('March 9', 'COGS18 Test')\n",
    "planner1.delete_event('March 9', 'COGS18 Test')"
   ]
  },
  {
   "cell_type": "code",
   "execution_count": null,
   "metadata": {},
   "outputs": [],
   "source": [
    "planner1 = ToDoList()\n",
    "planner1.add_event('April 25', 'Birthday')\n",
    "planner1.add_event('March 9', 'COGS18 Test')\n",
    "planner1.add_event('Decemebr 25', 'Christmas Day')\n"
   ]
  },
  {
   "cell_type": "code",
   "execution_count": null,
   "metadata": {},
   "outputs": [],
   "source": [
    "planner1.delete_event('Decemebr 25', 'Christmas Day')\n"
   ]
  },
  {
   "cell_type": "code",
   "execution_count": null,
   "metadata": {},
   "outputs": [],
   "source": [
    "planner1.change_event('April 25', 'Birthday', 'April 24', 'Birthday')"
   ]
  },
  {
   "cell_type": "code",
   "execution_count": null,
   "metadata": {},
   "outputs": [],
   "source": [
    "planner1.add_event('July 3', \"Reese's birthday\")"
   ]
  },
  {
   "cell_type": "code",
   "execution_count": null,
   "metadata": {},
   "outputs": [],
   "source": [
    "planner1.change_event('July 3', \"Reese's birthday\",'July 5', \"Reese's birthday\")"
   ]
  },
  {
   "cell_type": "code",
   "execution_count": null,
   "metadata": {},
   "outputs": [],
   "source": [
    "planner1.add_event('July 5', \"Party\")"
   ]
  },
  {
   "cell_type": "code",
   "execution_count": null,
   "metadata": {},
   "outputs": [],
   "source": [
    "planner1.plan('July 5')"
   ]
  },
  {
   "cell_type": "code",
   "execution_count": null,
   "metadata": {},
   "outputs": [],
   "source": [
    "planner1.plan('July 7')"
   ]
  },
  {
   "cell_type": "code",
   "execution_count": null,
   "metadata": {},
   "outputs": [],
   "source": [
    "print(planner1.plan('April 24'))"
   ]
  },
  {
   "cell_type": "code",
   "execution_count": null,
   "metadata": {},
   "outputs": [],
   "source": [
    "# test it out\n",
    "assert callable(ToDoList)\n",
    "assert type(planner1.plan('April 24')) == pd.DataFrame\n",
    "assert planner1.plan('Jun 15') == 'No event added for this date.'\n",
    "# I really tried but can't make the pytest to work so I included some asserts here also."
   ]
  },
  {
   "cell_type": "code",
   "execution_count": null,
   "metadata": {},
   "outputs": [],
   "source": [
    "!pytest"
   ]
  },
  {
   "cell_type": "markdown",
   "metadata": {},
   "source": [
    "#### Extra Credit (*optional*)\n",
    "\n",
    "Replace all of this text with a brief explanation (~3 sentences) of: \n",
    "1. Your Python Background\n",
    "2. How your project went above and beyond the requirements of the project and/or how you challenged yourself to learn something new with the final project"
   ]
  },
  {
   "cell_type": "markdown",
   "metadata": {},
   "source": [
    "I learned a little bit coding in high school but almost forgot everthing when I entered college, so I have little to no knowledge about Python before I started this course.\n",
    "I think I challenged myself in using pandas to creating my classes, and I almost went through all of the pandas directories and get to know a few of its method very well (although I only used a few, I tried a lot of them when I'm wirinting the code). As a result of using pandas in my class, I encountered so many problems, and I have to google a lot of ways to debug because in class we didn't learn panda very deep. The mere act of importing the class into my notebook with the correct style of importing took me one day to figure out. I also spent a large amount of time refractoring my code. For example, I tried four or five ways to write the 'plan' method. I was trying to use if/else statement at first, and then I switched to for loop and while loop, and finally I realized methods in pandas might help me with this so I went with it. \n",
    "The process of creating this project has been extremetly challenging for me. Honestly saying, I spent at least 20 hours on this project and still can't get all of the parts to work, which I'm pretty upset about.\n",
    "I think this might not be the best project idea since I'm not so familiar with neither pandas nor Python itself. IHowever, I did not change it because I was already so commited to it and I do really want to challenge myself. I also realize toward the end that I don't know how to create a test file for class method because I don't have any functions for my project other than my class methods. In the end, I'm still not able to make the bytest to work, but I'm trying till the last minute to make it work. If there will be feedback on the project, I would love to know how to make the pytest work.\n",
    "I have to admit that I'm not the smartest when it comes to coding and a lot of learning doesn't happen naturally to me. Althought the results are not perfect, I believe that I tried my best. I Definitely learned a lot through making this final project and I do not regret it."
   ]
  },
  {
   "cell_type": "markdown",
   "metadata": {},
   "source": [
    "References:\n",
    "These are two of the website I used to look up pandas dataframe method. I only used the method but not the code from the websites.\n",
    "https://www.geeksforgeeks.org/different-ways-to-create-pandas-dataframe/\n",
    "https://www.shanelynn.ie/using-pandas-dataframe-creating-editing-viewing-data-in-python/:~:text=from%20Pandas%20dataframes.-,Deleting%20rows%20and%20columns%20(drop),the%20%E2%80%9Caxis%E2%80%9D%20as%201.\n",
    "The TAs helped me with writing my codes too. One important hint I got from one of the TA is the use of enumerator, which is very helpful in my code.\n",
    "In addition, I did search for ways to debug my code, but I did not use any code on the internet."
   ]
  }
 ],
 "metadata": {
  "kernelspec": {
   "display_name": "Python 3 (ipykernel)",
   "language": "python",
   "name": "python3"
  },
  "language_info": {
   "codemirror_mode": {
    "name": "ipython",
    "version": 3
   },
   "file_extension": ".py",
   "mimetype": "text/x-python",
   "name": "python",
   "nbconvert_exporter": "python",
   "pygments_lexer": "ipython3",
   "version": "3.9.5"
  }
 },
 "nbformat": 4,
 "nbformat_minor": 2
}
